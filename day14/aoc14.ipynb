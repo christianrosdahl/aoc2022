{
 "cells": [
  {
   "cell_type": "markdown",
   "id": "33fd16ae-9ea4-4186-80b2-4635c1bd9298",
   "metadata": {},
   "source": [
    "# Advent of Code 2022 - Day 14"
   ]
  },
  {
   "cell_type": "code",
   "execution_count": 1,
   "id": "7dc95f4d-c2e8-4c3f-be03-8063088b26a2",
   "metadata": {},
   "outputs": [],
   "source": [
    "# Load data\n",
    "file = open('input.txt','r')\n",
    "input_lines = file.readlines()\n",
    "for i in range(len(input_lines)):\n",
    "    input_lines[i] = input_lines[i].replace('\\n', '')"
   ]
  },
  {
   "cell_type": "code",
   "execution_count": 2,
   "id": "a140d709-a7e8-4069-a9fe-5a943f4947e4",
   "metadata": {},
   "outputs": [],
   "source": [
    "# Get endpoints of all lines representing rocks\n",
    "all_line_ends = []\n",
    "for input_line in input_lines:\n",
    "    line_ends = []\n",
    "    points = input_line.split(' -> ')\n",
    "    for point in points:\n",
    "        x, y = point.split(',')\n",
    "        x, y = int(x), int(y)\n",
    "        line_ends.append((x,y))\n",
    "    all_line_ends.append(line_ends)\n",
    "\n",
    "# Get all points blocked by rocks\n",
    "rock_points = set()\n",
    "for line_ends in all_line_ends:\n",
    "    for i in range(len(line_ends)-1):\n",
    "        x1, y1 = line_ends[i] # End point 1\n",
    "        x2, y2 = line_ends[i+1] # End point 2\n",
    "        if y2 - y1 == 0: # Horizontal line\n",
    "            y = y1\n",
    "            if x2 < x1:\n",
    "                x1, x2 = x2, x1\n",
    "            for x in range(x1, x2+1):\n",
    "                rock_points.add((x,y))\n",
    "        elif x2 - x1 == 0: # Vertical line\n",
    "            x = x1\n",
    "            if y2 < y1:\n",
    "                y1, y2 = y2, y1\n",
    "            for y in range(y1, y2+1):\n",
    "                rock_points.add((x,y))"
   ]
  },
  {
   "cell_type": "code",
   "execution_count": 3,
   "id": "5350f035-8740-4116-92fb-eac55432e9c6",
   "metadata": {},
   "outputs": [],
   "source": [
    "source = (500,0) # Location of sand source\n",
    "lowest_point = max([y for (x,y) in rock_points]) # Lowest point with rocks"
   ]
  },
  {
   "cell_type": "code",
   "execution_count": 4,
   "id": "87363c9f-1c38-4ecb-8969-3b506a224c7f",
   "metadata": {},
   "outputs": [],
   "source": [
    "def blocked(pos, rock_points, sand_points, floor_y=float('inf')):\n",
    "    # Check if pos is a blocked position, by rocks, sand or a potential floor\n",
    "    # Returns: True if pos is not blocked\n",
    "    return pos in rock_points or pos in sand_points or pos[1] >= floor_y"
   ]
  },
  {
   "cell_type": "markdown",
   "id": "1d46e1f3-bcac-43bf-b9d3-63ef324a6748",
   "metadata": {},
   "source": [
    "## Part 1"
   ]
  },
  {
   "cell_type": "code",
   "execution_count": 5,
   "id": "19d64a65-6d94-4dc9-a3c1-f7c8f7220432",
   "metadata": {},
   "outputs": [],
   "source": [
    "# Get all points containing sand\n",
    "sand_points = set()\n",
    "overflow = False # True when sand flows into the abyss\n",
    "while not overflow:\n",
    "    pos = source # Position of currently falling sand unit\n",
    "    can_move = True # Sand unit can move further\n",
    "    while pos[1] < lowest_point and can_move:\n",
    "        if not blocked((pos[0], pos[1]+1), rock_points, sand_points):\n",
    "            pos = (pos[0], pos[1]+1)\n",
    "        elif not blocked((pos[0]-1, pos[1]+1), rock_points, sand_points):\n",
    "            pos = (pos[0]-1, pos[1]+1)\n",
    "        elif not blocked((pos[0]+1, pos[1]+1), rock_points, sand_points):\n",
    "            pos = (pos[0]+1, pos[1]+1)\n",
    "        else:\n",
    "            can_move = False\n",
    "        if pos[1] >= lowest_point:\n",
    "            overflow = True\n",
    "    if not overflow:\n",
    "        sand_points.add(pos)"
   ]
  },
  {
   "cell_type": "code",
   "execution_count": 6,
   "id": "9b9103e9-89a2-44d8-9a63-c01aa20a012f",
   "metadata": {},
   "outputs": [
    {
     "name": "stdout",
     "output_type": "stream",
     "text": [
      "Number of sand units that come to rest: 1072\n"
     ]
    }
   ],
   "source": [
    "print('Number of sand units that come to rest: ' + str(len(sand_points)))"
   ]
  },
  {
   "cell_type": "markdown",
   "id": "16842316-20ad-48dc-b3cb-9a8179b9990f",
   "metadata": {},
   "source": [
    "## Part 2"
   ]
  },
  {
   "cell_type": "code",
   "execution_count": 7,
   "id": "88a678fb-621c-4016-9717-b6e52db11032",
   "metadata": {},
   "outputs": [],
   "source": [
    "floor_y = lowest_point + 2 # Add floor under rocks"
   ]
  },
  {
   "cell_type": "code",
   "execution_count": 8,
   "id": "b8f5f611-7cdd-49e6-965a-282ac109a16d",
   "metadata": {},
   "outputs": [],
   "source": [
    "# Get all points containing sand\n",
    "sand_points = set()\n",
    "sand_units = 0\n",
    "overflow = False\n",
    "while not overflow:\n",
    "    pos = source\n",
    "    can_move = True\n",
    "    while can_move:\n",
    "        if not blocked((pos[0], pos[1]+1), rock_points, sand_points, floor_y):\n",
    "            pos = (pos[0], pos[1]+1)\n",
    "        elif not blocked((pos[0]-1, pos[1]+1), rock_points, sand_points, floor_y):\n",
    "            pos = (pos[0]-1, pos[1]+1)\n",
    "        elif not blocked((pos[0]+1, pos[1]+1), rock_points, sand_points, floor_y):\n",
    "            pos = (pos[0]+1, pos[1]+1)\n",
    "        else:\n",
    "            can_move = False\n",
    "    if pos == source:\n",
    "        overflow = True\n",
    "    sand_points.add(pos)"
   ]
  },
  {
   "cell_type": "code",
   "execution_count": 9,
   "id": "e49a8f0e-e0b4-45fe-8a9e-7b258463a0d9",
   "metadata": {},
   "outputs": [
    {
     "name": "stdout",
     "output_type": "stream",
     "text": [
      "Number of sand units that come to rest: 24659\n"
     ]
    }
   ],
   "source": [
    "print('Number of sand units that come to rest: ' + str(len(sand_points)))"
   ]
  }
 ],
 "metadata": {
  "jupytext": {
   "formats": "ipynb,py:light"
  },
  "kernelspec": {
   "display_name": "Python 3 (ipykernel)",
   "language": "python",
   "name": "python3"
  },
  "language_info": {
   "codemirror_mode": {
    "name": "ipython",
    "version": 3
   },
   "file_extension": ".py",
   "mimetype": "text/x-python",
   "name": "python",
   "nbconvert_exporter": "python",
   "pygments_lexer": "ipython3",
   "version": "3.9.13"
  }
 },
 "nbformat": 4,
 "nbformat_minor": 5
}
