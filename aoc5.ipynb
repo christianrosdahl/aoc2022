{
 "cells": [
  {
   "cell_type": "markdown",
   "id": "cdda095b-ca93-409d-add4-b6baea65b111",
   "metadata": {},
   "source": [
    "# Advent of Code 2022 - Day 5"
   ]
  },
  {
   "cell_type": "markdown",
   "id": "9a0ffe31-9d0c-486b-8839-0e47d65767a7",
   "metadata": {},
   "source": [
    "## Part 1"
   ]
  },
  {
   "cell_type": "code",
   "execution_count": 1,
   "id": "e98a6281-0895-453b-9752-f4850bb948fd",
   "metadata": {},
   "outputs": [],
   "source": [
    "# Load initial stack data\n",
    "file = open('input5a.txt','r')\n",
    "lines = file.readlines()\n",
    "for i in range(len(lines)):\n",
    "    lines[i] = lines[i].replace('\\n', '')"
   ]
  },
  {
   "cell_type": "code",
   "execution_count": 2,
   "id": "bc9c7c42-18dd-4b18-b381-c178c4b3880c",
   "metadata": {},
   "outputs": [
    {
     "name": "stdout",
     "output_type": "stream",
     "text": [
      "Stacks: \n",
      "{1: ['R', 'W', 'F', 'H', 'T', 'S'], 2: ['W', 'Q', 'D', 'G', 'S'], 3: ['W', 'T', 'B'], 4: ['J', 'Z', 'Q', 'N', 'T', 'W', 'R', 'D'], 5: ['Z', 'T', 'V', 'L', 'G', 'H', 'B', 'F'], 6: ['G', 'S', 'B', 'V', 'C', 'T', 'P', 'L'], 7: ['P', 'G', 'W', 'T', 'R', 'B', 'Z'], 8: ['R', 'J', 'C', 'T', 'M', 'G', 'N'], 9: ['W', 'B', 'G', 'L']}\n"
     ]
    }
   ],
   "source": [
    "# Create initial stacks\n",
    "stack_width = 4\n",
    "max_height = 8\n",
    "num_stacks = 9\n",
    "stacks = {}\n",
    "for stack_num in range(1, num_stacks+1):\n",
    "    stacks[stack_num] = []\n",
    "\n",
    "for line in lines:\n",
    "    pos = 0\n",
    "    for stack_num in range(1, num_stacks+1):\n",
    "        item = line[pos:pos+stack_width]\n",
    "        if '[' in item:\n",
    "            stacks[stack_num].append(item[1])\n",
    "        pos += stack_width\n",
    "print('Stacks: ')\n",
    "print(stacks)"
   ]
  },
  {
   "cell_type": "code",
   "execution_count": 3,
   "id": "5fe5e5c1-293b-479a-b840-41b61ed4f825",
   "metadata": {},
   "outputs": [],
   "source": [
    "# Load moving instructions\n",
    "file = open('input5b.txt','r')\n",
    "lines = file.readlines()\n",
    "for i in range(len(lines)):\n",
    "    lines[i] = lines[i].replace('\\n', '')"
   ]
  },
  {
   "cell_type": "code",
   "execution_count": 4,
   "id": "e00dacec-88fc-44e6-a1b5-ec610d26a5ed",
   "metadata": {},
   "outputs": [],
   "source": [
    "def move(stacks, num_to_move, origin, dest):\n",
    "    for i in range(num_to_move):\n",
    "        item = stacks[origin].pop(0)\n",
    "        stacks[dest].insert(0, item)"
   ]
  },
  {
   "cell_type": "code",
   "execution_count": 5,
   "id": "bdfecc67-04f2-4a0d-add2-1d14a584baf9",
   "metadata": {},
   "outputs": [],
   "source": [
    "for line in lines:\n",
    "    _, num_to_move, _, origin, _, dest = line.split(' ')\n",
    "    num_to_move, origin, dest = int(num_to_move), int(origin), int(dest)\n",
    "    move(stacks, num_to_move, origin, dest)"
   ]
  },
  {
   "cell_type": "code",
   "execution_count": 6,
   "id": "ed5caa28-0651-430e-b817-5e551bf07cb9",
   "metadata": {},
   "outputs": [
    {
     "name": "stdout",
     "output_type": "stream",
     "text": [
      "Stacks: \n",
      "{1: ['Z'], 2: ['R', 'J', 'M', 'R', 'Z', 'D', 'T', 'W', 'S', 'T', 'G'], 3: ['L', 'T', 'T', 'W', 'V'], 4: ['J', 'Q', 'L', 'P', 'G'], 5: ['G', 'N', 'W', 'B', 'C', 'L', 'G', 'P', 'B', 'Z'], 6: ['S', 'H'], 7: ['C', 'N', 'S', 'F', 'W', 'Q', 'F', 'T', 'B', 'T', 'R', 'G', 'W', 'V', 'B', 'H', 'W', 'D'], 8: ['T'], 9: ['R', 'G', 'B']}\n",
      "Solution: \n",
      "ZRLJGSCTR\n"
     ]
    }
   ],
   "source": [
    "print('Stacks: ')\n",
    "print(stacks)\n",
    "\n",
    "solution = ''\n",
    "for stack_num in range(1, num_stacks+1):\n",
    "    solution += stacks[stack_num][0]\n",
    "print('Solution: ')\n",
    "print(solution)"
   ]
  },
  {
   "cell_type": "markdown",
   "id": "4500e63f-4687-4dd7-bf5b-c954425b0ce8",
   "metadata": {},
   "source": [
    "## Part 2"
   ]
  },
  {
   "cell_type": "code",
   "execution_count": 18,
   "id": "156f1f9b-c7fd-4585-acb2-92c8afba6c7f",
   "metadata": {},
   "outputs": [],
   "source": [
    "# Load initial stack data\n",
    "file = open('input5a.txt','r')\n",
    "lines = file.readlines()\n",
    "for i in range(len(lines)):\n",
    "    lines[i] = lines[i].replace('\\n', '')"
   ]
  },
  {
   "cell_type": "code",
   "execution_count": 19,
   "id": "3e5fd0c7-ac0b-43c0-9ba2-54c523316883",
   "metadata": {},
   "outputs": [
    {
     "name": "stdout",
     "output_type": "stream",
     "text": [
      "Stacks: \n",
      "{1: ['R', 'W', 'F', 'H', 'T', 'S'], 2: ['W', 'Q', 'D', 'G', 'S'], 3: ['W', 'T', 'B'], 4: ['J', 'Z', 'Q', 'N', 'T', 'W', 'R', 'D'], 5: ['Z', 'T', 'V', 'L', 'G', 'H', 'B', 'F'], 6: ['G', 'S', 'B', 'V', 'C', 'T', 'P', 'L'], 7: ['P', 'G', 'W', 'T', 'R', 'B', 'Z'], 8: ['R', 'J', 'C', 'T', 'M', 'G', 'N'], 9: ['W', 'B', 'G', 'L']}\n"
     ]
    }
   ],
   "source": [
    "# Create initial stacks\n",
    "stack_width = 4\n",
    "max_height = 8\n",
    "num_stacks = 9\n",
    "stacks = {}\n",
    "for stack_num in range(1, num_stacks+1):\n",
    "    stacks[stack_num] = []\n",
    "\n",
    "for line in lines:\n",
    "    pos = 0\n",
    "    for stack_num in range(1, num_stacks+1):\n",
    "        item = line[pos:pos+stack_width]\n",
    "        if '[' in item:\n",
    "            stacks[stack_num].append(item[1])\n",
    "        pos += stack_width\n",
    "print('Stacks: ')\n",
    "print(stacks)"
   ]
  },
  {
   "cell_type": "code",
   "execution_count": 20,
   "id": "349e8053-4d83-4299-9693-ba978160be51",
   "metadata": {},
   "outputs": [],
   "source": [
    "# Load moving instructions\n",
    "file = open('input5b.txt','r')\n",
    "lines = file.readlines()\n",
    "for i in range(len(lines)):\n",
    "    lines[i] = lines[i].replace('\\n', '')"
   ]
  },
  {
   "cell_type": "code",
   "execution_count": 21,
   "id": "db263919-3d2b-4d55-af43-156b6f073b7c",
   "metadata": {},
   "outputs": [],
   "source": [
    "def move2(stacks, num_to_move, origin, dest):\n",
    "    items = []\n",
    "    for i in range(num_to_move):\n",
    "        item = stacks[origin].pop(0)\n",
    "        items.append(item)\n",
    "    stacks[dest] = items + stacks[dest]"
   ]
  },
  {
   "cell_type": "code",
   "execution_count": 22,
   "id": "1e44e1f7-1f84-4ac8-b4aa-5fd7232aa130",
   "metadata": {},
   "outputs": [],
   "source": [
    "for line in lines:\n",
    "    _, num_to_move, _, origin, _, dest = line.split(' ')\n",
    "    num_to_move, origin, dest = int(num_to_move), int(origin), int(dest)\n",
    "    move2(stacks, num_to_move, origin, dest)"
   ]
  },
  {
   "cell_type": "code",
   "execution_count": 23,
   "id": "536e56e4-5aa8-4c3e-ba2e-a1132b46dfa5",
   "metadata": {},
   "outputs": [
    {
     "name": "stdout",
     "output_type": "stream",
     "text": [
      "Stacks: \n",
      "{1: ['P'], 2: ['R', 'R', 'B', 'Z', 'H', 'L', 'G', 'W', 'H', 'B', 'S'], 3: ['T', 'J', 'C', 'M', 'Z'], 4: ['T', 'D', 'G', 'W', 'L'], 5: ['G', 'N', 'W', 'W', 'S', 'T', 'B', 'N', 'J', 'T'], 6: ['R', 'G'], 7: ['F', 'W', 'S', 'G', 'C', 'T', 'Q', 'F', 'T', 'B', 'Q', 'Z', 'R', 'D', 'L', 'W', 'T', 'V'], 8: ['P'], 9: ['B', 'G', 'V']}\n",
      "Solution: \n",
      "PRTTGRFPB\n"
     ]
    }
   ],
   "source": [
    "print('Stacks: ')\n",
    "print(stacks)\n",
    "\n",
    "solution = ''\n",
    "for stack_num in range(1, num_stacks+1):\n",
    "    solution += stacks[stack_num][0]\n",
    "print('Solution: ')\n",
    "print(solution)"
   ]
  },
  {
   "cell_type": "code",
   "execution_count": null,
   "id": "079bbeb0-49ce-4647-8583-1151ea908557",
   "metadata": {},
   "outputs": [],
   "source": []
  }
 ],
 "metadata": {
  "jupytext": {
   "formats": "ipynb,auto:light"
  },
  "kernelspec": {
   "display_name": "Python 3 (ipykernel)",
   "language": "python",
   "name": "python3"
  },
  "language_info": {
   "codemirror_mode": {
    "name": "ipython",
    "version": 3
   },
   "file_extension": ".py",
   "mimetype": "text/x-python",
   "name": "python",
   "nbconvert_exporter": "python",
   "pygments_lexer": "ipython3",
   "version": "3.9.13"
  }
 },
 "nbformat": 4,
 "nbformat_minor": 5
}
