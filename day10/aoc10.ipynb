{
 "cells": [
  {
   "cell_type": "markdown",
   "id": "e2d02903-01fc-46d6-bdcf-c95caae067dd",
   "metadata": {},
   "source": [
    "# Advent of Code 2022 - Day 10"
   ]
  },
  {
   "cell_type": "markdown",
   "id": "f8c495a9-c6d7-4e88-a615-6a48e092068e",
   "metadata": {},
   "source": [
    "## Part 1"
   ]
  },
  {
   "cell_type": "code",
   "execution_count": 1,
   "id": "24ff9467-3321-4b99-b690-d0d23aee0661",
   "metadata": {},
   "outputs": [],
   "source": [
    "# Load data\n",
    "file = open('input.txt','r')\n",
    "lines = file.readlines()\n",
    "for i in range(len(lines)):\n",
    "    lines[i] = lines[i].replace('\\n', '')"
   ]
  },
  {
   "cell_type": "code",
   "execution_count": 2,
   "id": "c51544bd-c833-4879-99bc-b53def93219a",
   "metadata": {},
   "outputs": [
    {
     "name": "stdout",
     "output_type": "stream",
     "text": [
      "Sum of signal strengths: 14160\n"
     ]
    }
   ],
   "source": [
    "cycles_to_check = [20, 60, 100, 140, 180, 220]\n",
    "register_values_for_cycle = {}\n",
    "X = 1\n",
    "cycle = 1\n",
    "register_values_for_cycle[1] = X\n",
    "for line in lines:\n",
    "    if line == 'noop':\n",
    "        cycle += 1\n",
    "        register_values_for_cycle[cycle] = X\n",
    "    else:\n",
    "        _, value = line.split()\n",
    "        value = int(value)\n",
    "        cycle += 1\n",
    "        register_values_for_cycle[cycle] = X\n",
    "        cycle += 1\n",
    "        X += value\n",
    "        register_values_for_cycle[cycle] = X\n",
    "        \n",
    "signal_strengths = []\n",
    "for cycle in cycles_to_check:\n",
    "    signal_strengths.append(register_values_for_cycle[cycle] * cycle)\n",
    "print('Sum of signal strengths: ' + str(sum(signal_strengths)))"
   ]
  },
  {
   "cell_type": "markdown",
   "id": "b13ffcf4-8a11-4dff-ab69-16602d2b2941",
   "metadata": {},
   "source": [
    "## Part 2"
   ]
  },
  {
   "cell_type": "code",
   "execution_count": 3,
   "id": "702e2585-be80-4492-99a3-3ec1193fb1da",
   "metadata": {},
   "outputs": [],
   "source": [
    "def show(pixel_values):\n",
    "    num_rows = len(pixel_values)\n",
    "    for row in range(num_rows):\n",
    "        string = ''\n",
    "        for pixel in range(len(pixel_values[0])):\n",
    "            string += str(pixel_values[row][pixel])\n",
    "        print(string)"
   ]
  },
  {
   "cell_type": "code",
   "execution_count": 4,
   "id": "ecbed8d5-0855-4b9c-8fc3-8419adb9959f",
   "metadata": {},
   "outputs": [],
   "source": [
    "num_rows = 6\n",
    "num_pixels_per_row = 40\n",
    "pixel_values = [[0 for _ in range(num_pixels_per_row)] for _ in range(num_rows)]\n",
    "cycle = 1\n",
    "for row in range(num_rows):\n",
    "    for pixel in range(num_pixels_per_row):\n",
    "        if abs(pixel - register_values_for_cycle[cycle]) <= 1:\n",
    "            pixel_values[row][pixel] = '#'\n",
    "        else:\n",
    "            pixel_values[row][pixel] = '.'\n",
    "        cycle += 1"
   ]
  },
  {
   "cell_type": "code",
   "execution_count": 5,
   "id": "b06e6c02-075d-4aff-8091-40c8ce1cd826",
   "metadata": {},
   "outputs": [
    {
     "name": "stdout",
     "output_type": "stream",
     "text": [
      "###....##.####.###..###..####.####..##..\n",
      "#..#....#.#....#..#.#..#.#....#....#..#.\n",
      "#..#....#.###..#..#.#..#.###..###..#....\n",
      "###.....#.#....###..###..#....#....#....\n",
      "#.#..#..#.#....#.#..#....#....#....#..#.\n",
      "#..#..##..####.#..#.#....####.#.....##..\n"
     ]
    }
   ],
   "source": [
    "show(pixel_values)"
   ]
  }
 ],
 "metadata": {
  "jupytext": {
   "formats": "ipynb,py:light"
  },
  "kernelspec": {
   "display_name": "Python 3 (ipykernel)",
   "language": "python",
   "name": "python3"
  },
  "language_info": {
   "codemirror_mode": {
    "name": "ipython",
    "version": 3
   },
   "file_extension": ".py",
   "mimetype": "text/x-python",
   "name": "python",
   "nbconvert_exporter": "python",
   "pygments_lexer": "ipython3",
   "version": "3.9.13"
  }
 },
 "nbformat": 4,
 "nbformat_minor": 5
}
