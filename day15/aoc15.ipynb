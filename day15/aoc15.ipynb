{
 "cells": [
  {
   "cell_type": "markdown",
   "id": "33fd16ae-9ea4-4186-80b2-4635c1bd9298",
   "metadata": {},
   "source": [
    "# Advent of Code 2022 - Day 15"
   ]
  },
  {
   "cell_type": "code",
   "execution_count": 1,
   "id": "7dc95f4d-c2e8-4c3f-be03-8063088b26a2",
   "metadata": {},
   "outputs": [],
   "source": [
    "# Load data\n",
    "# input_name = 'input_example.txt'\n",
    "input_name = 'input.txt'\n",
    "file = open(input_name,'r')\n",
    "lines = file.readlines()\n",
    "for i in range(len(lines)):\n",
    "    lines[i] = lines[i].replace('\\n', '')"
   ]
  },
  {
   "cell_type": "markdown",
   "id": "1d46e1f3-bcac-43bf-b9d3-63ef324a6748",
   "metadata": {},
   "source": [
    "## Part 1"
   ]
  },
  {
   "cell_type": "code",
   "execution_count": 2,
   "id": "37fbedad-09a8-41dd-a9fa-b2ec83134450",
   "metadata": {},
   "outputs": [],
   "source": [
    "# Get sensor and beacon positions\n",
    "sensors = []\n",
    "beacons = []\n",
    "for line in lines:\n",
    "    sensor, beacon = line.split(': ')\n",
    "    x, y = sensor[len('Sensor at '):].split(', ')\n",
    "    x, y = x[len('x='):], y[len('y='):]\n",
    "    x, y = int(x), int(y)\n",
    "    sensors.append((x,y))\n",
    "    x, y = beacon[len('closest beacon is at '):].split(', ')\n",
    "    x, y = x[len('x='):], y[len('y='):]\n",
    "    x, y = int(x), int(y)\n",
    "    beacons.append((x,y))"
   ]
  },
  {
   "cell_type": "code",
   "execution_count": 3,
   "id": "b76dea7d-8ae8-4467-a370-b7aaa376296a",
   "metadata": {},
   "outputs": [],
   "source": [
    "def distance(p1, p2):\n",
    "    # Get Manhattan distance between two points p1 = (x1,y1) and p2 = (x2,y2)\n",
    "    x1, y1 = p1[0], p1[1]\n",
    "    x2, y2 = p2[0], p2[1]\n",
    "    return (abs(y2 - y1) + abs(x2 - x1))"
   ]
  },
  {
   "cell_type": "code",
   "execution_count": 4,
   "id": "015f7b57-2ce6-41b8-ba9f-3e87e2c835d2",
   "metadata": {},
   "outputs": [],
   "source": [
    "# Get distances between sensors and nearest beacon for each sensor\n",
    "distances = []\n",
    "for i in range(len(sensors)):\n",
    "    sensor = sensors[i]\n",
    "    beacon = beacons[i]\n",
    "    distances.append(distance(sensor, beacon))"
   ]
  },
  {
   "cell_type": "code",
   "execution_count": 5,
   "id": "326afeca-0a98-4559-ad01-293818c458eb",
   "metadata": {},
   "outputs": [],
   "source": [
    "def cannot_have_beacon(pos, sensors, beacons, distances):\n",
    "    # Check if pos cannot have a beacon\n",
    "    # Returns: True if pos cannot have a beacon\n",
    "    for i in range(len(sensors)):\n",
    "        if (distance(pos, sensors[i]) <= distances[i]\n",
    "            and not pos in beacons):\n",
    "            return True\n",
    "    return False"
   ]
  },
  {
   "cell_type": "code",
   "execution_count": 6,
   "id": "f31a074a-b4fe-459d-9f61-b3c5cf8f70cc",
   "metadata": {
    "tags": []
   },
   "outputs": [],
   "source": [
    "# Find number of positions (x,y) for a given y that cannot have a beacon\n",
    "if 'example' in input_name:\n",
    "    y = 10\n",
    "else:\n",
    "    y = 2000000\n",
    "max_dist = max(distances)\n",
    "x_min = min([sensor[0] - max_dist for sensor in sensors])\n",
    "x_max = max([sensor[0] + max_dist for sensor in sensors])\n",
    "num_pos_without_beacon = 0\n",
    "for x in range(x_min, x_max+1):\n",
    "    if cannot_have_beacon((x,y), sensors, beacons, distances):\n",
    "        num_pos_without_beacon += 1"
   ]
  },
  {
   "cell_type": "code",
   "execution_count": 7,
   "id": "0157223b-63e1-4f9a-9090-194338d3c81b",
   "metadata": {},
   "outputs": [
    {
     "name": "stdout",
     "output_type": "stream",
     "text": [
      "Number of positions (x,y) for y = 2000000 that cannot have a beacon: 5607466\n"
     ]
    }
   ],
   "source": [
    "print('Number of positions (x,y) for y = ' + str(y) \n",
    "      + ' that cannot have a beacon: ' + str(num_pos_without_beacon))"
   ]
  },
  {
   "cell_type": "markdown",
   "id": "16842316-20ad-48dc-b3cb-9a8179b9990f",
   "metadata": {},
   "source": [
    "## Part 2"
   ]
  },
  {
   "cell_type": "code",
   "execution_count": 8,
   "id": "caa70b84-d544-4b28-aec2-540b93062a7c",
   "metadata": {},
   "outputs": [],
   "source": [
    "def unblocked_points(intervals, limits):\n",
    "    # Get all integer points between limits = (x1, x2)\n",
    "    # that are not covered by any interval listed in intervals\n",
    "    points = [] # All interval end points\n",
    "    points.append((limits[0], 'limit'))\n",
    "    points.append((limits[1], 'limit'))\n",
    "    for i in intervals:\n",
    "        points.append((i[0], 'start'))\n",
    "        points.append((i[1], 'end'))\n",
    "    points.sort(key = lambda i: i[0])\n",
    "    active_intervals = 0 # Number of active intervals\n",
    "    free_points = [] # Unblocked points\n",
    "    for i in range(len(points)-1):\n",
    "        if points[i][1] == 'start':\n",
    "            active_intervals += 1\n",
    "        elif points[i][1] == 'end':\n",
    "            active_intervals -= 1\n",
    "        if active_intervals == 0:\n",
    "            free_points += list(range(points[i][0]+1, points[i+1][0]))\n",
    "    return free_points"
   ]
  },
  {
   "cell_type": "code",
   "execution_count": 9,
   "id": "51f665da-b31e-461a-8021-e109f25a2638",
   "metadata": {},
   "outputs": [],
   "source": [
    "def x_potential_beacons(y, sensors, distances, x_lim):\n",
    "    # Get x-values for all points (x,y) with the given y\n",
    "    # within the limits x_lim = (x1,x2) that could contain beacons\n",
    "    x_min, x_max = x_lim[0], x_lim[1]\n",
    "    blocked_intervals = [] # Intervals that cannot contain a beacon\n",
    "    for i in range(len(sensors)):\n",
    "        xs, ys = sensors[i][0], sensors[i][1]\n",
    "        dist = distances[i]\n",
    "        dy = abs(y - ys)\n",
    "        if dy <= dist:\n",
    "            dx = dist - dy\n",
    "            x1 = xs - dx\n",
    "            x2 = xs + dx\n",
    "            blocked_intervals.append([x1, x2])\n",
    "    return unblocked_points(blocked_intervals, x_lim)"
   ]
  },
  {
   "cell_type": "code",
   "execution_count": 10,
   "id": "0d160cc2-f0c7-440b-8410-54fbf8d2bf3b",
   "metadata": {},
   "outputs": [
    {
     "name": "stdout",
     "output_type": "stream",
     "text": [
      "Points that could contain a beacon: [(3135800, 2766584)]\n"
     ]
    }
   ],
   "source": [
    "# Find points that could contain a beacon\n",
    "x_min = 0\n",
    "if 'example' in input_name:\n",
    "    x_max = 20\n",
    "else:\n",
    "    x_max = 4000000\n",
    "y_min = x_min\n",
    "y_max = x_max\n",
    "free_points = []\n",
    "for y in range(y_min,y_max):\n",
    "    unblocked_x = x_potential_beacons(y, sensors, distances, x_lim=(x_min,x_max))\n",
    "    for x in unblocked_x:\n",
    "        free_points.append((x, y))\n",
    "print('Points that could contain a beacon: ' + str(free_points))"
   ]
  },
  {
   "cell_type": "code",
   "execution_count": 11,
   "id": "fdec1224-1d09-4bd2-b0f8-abc6f5ebdced",
   "metadata": {},
   "outputs": [
    {
     "name": "stdout",
     "output_type": "stream",
     "text": [
      "Tuning frequency: 12543202766584\n"
     ]
    }
   ],
   "source": [
    "# Find tuning frequency\n",
    "nearest_beacon = free_points[0]\n",
    "x,y = nearest_beacon\n",
    "tuning_freq = x*4000000 + y\n",
    "print('Tuning frequency: ' + str(tuning_freq))"
   ]
  }
 ],
 "metadata": {
  "jupytext": {
   "formats": "ipynb,py:light"
  },
  "kernelspec": {
   "display_name": "Python 3 (ipykernel)",
   "language": "python",
   "name": "python3"
  },
  "language_info": {
   "codemirror_mode": {
    "name": "ipython",
    "version": 3
   },
   "file_extension": ".py",
   "mimetype": "text/x-python",
   "name": "python",
   "nbconvert_exporter": "python",
   "pygments_lexer": "ipython3",
   "version": "3.9.13"
  }
 },
 "nbformat": 4,
 "nbformat_minor": 5
}
