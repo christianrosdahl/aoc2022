{
 "cells": [
  {
   "cell_type": "markdown",
   "id": "33fd16ae-9ea4-4186-80b2-4635c1bd9298",
   "metadata": {},
   "source": [
    "# Advent of Code 2022 - Day 12"
   ]
  },
  {
   "cell_type": "markdown",
   "id": "1d46e1f3-bcac-43bf-b9d3-63ef324a6748",
   "metadata": {},
   "source": [
    "## Part 1"
   ]
  },
  {
   "cell_type": "code",
   "execution_count": 1,
   "id": "7dc95f4d-c2e8-4c3f-be03-8063088b26a2",
   "metadata": {},
   "outputs": [],
   "source": [
    "# Load data\n",
    "file = open('input12.txt','r')\n",
    "lines = file.readlines()\n",
    "for i in range(len(lines)):\n",
    "    lines[i] = lines[i].replace('\\n', '')"
   ]
  },
  {
   "cell_type": "code",
   "execution_count": 2,
   "id": "91384ba9-efde-4531-909d-e920ce162aff",
   "metadata": {},
   "outputs": [],
   "source": [
    "# Create height matrix\n",
    "heights = [] # Matrix with heights of each position\n",
    "start = None # Start position\n",
    "end = None # End position\n",
    "for i, line in enumerate(lines):\n",
    "    row = []\n",
    "    for j, letter in enumerate(line):\n",
    "        if letter == 'S': # Start position with height a\n",
    "            start = (i,j)\n",
    "            letter = 'a'\n",
    "        elif letter == 'E': # End position with height z\n",
    "            end = (i,j)\n",
    "            letter = 'z'\n",
    "        row.append(ord(letter) - ord('a')) # Save height as a number\n",
    "    heights.append(row)"
   ]
  },
  {
   "cell_type": "code",
   "execution_count": 3,
   "id": "568d4e50-7f23-44cd-8897-9b517d7ff172",
   "metadata": {},
   "outputs": [],
   "source": [
    "# Find neighbours of each position\n",
    "neighbours = {} # Neighbours for each position\n",
    "for i in range(len(heights)):\n",
    "    for j in range(len(heights[0])):\n",
    "        neighbours_ij = []\n",
    "        for diff in [(1,0), (-1,0), (0,1), (0,-1)]:\n",
    "            i_n = i + diff[0]\n",
    "            j_n = j + diff[1]\n",
    "            neighbour_exists = (i_n >= 0 and i_n < len(heights) and j_n >= 0 and j_n < len(heights[0]))\n",
    "            if neighbour_exists:\n",
    "                neighbour_reachable = ((heights[i_n][j_n] - heights[i][j]) <= 1)\n",
    "                if neighbour_reachable:\n",
    "                    neighbours_ij.append((i_n, j_n))\n",
    "        neighbours[i,j] = neighbours_ij"
   ]
  },
  {
   "cell_type": "code",
   "execution_count": 4,
   "id": "128afd55-5e31-4657-8d57-5eaaa5190a87",
   "metadata": {},
   "outputs": [],
   "source": [
    "# Dijkstra's algorithm for finding the shortest path\n",
    "def dijkstra(heights, start, end, get_all_values=False):\n",
    "    inf = float('inf') # Infinity\n",
    "    unvisited = [] # Unvisited positions\n",
    "    for i in range(len(heights)):\n",
    "        for j in range(len(heights[0])):\n",
    "            unvisited.append((i,j))\n",
    "    values = {pos: inf for pos in unvisited} # Tentative values of each position\n",
    "    pos = start # Current position\n",
    "    values[start] = 0\n",
    "    while len(unvisited) > 0: # Run while set contains unvisited positions\n",
    "        for neighbour in neighbours[pos]:\n",
    "            neighbour_value = values[neighbour]\n",
    "            new_value = values[pos] + 1 # Path length to neighbour via pos\n",
    "            if new_value < neighbour_value:\n",
    "                values[neighbour] = new_value\n",
    "        unvisited.remove(pos)\n",
    "        unvisited_values = {pos: values[pos] for pos in unvisited}\n",
    "        if len(unvisited_values) > 0:\n",
    "            pos = min(unvisited_values, key=unvisited_values.get) # Get position with smallest value\n",
    "        if pos == end:\n",
    "            if not get_all_values:\n",
    "                break\n",
    "    if get_all_values:\n",
    "        return values\n",
    "    else:\n",
    "        return values[end]"
   ]
  },
  {
   "cell_type": "code",
   "execution_count": 5,
   "id": "b2d4f751-65b2-460b-8d38-e9ee6dd3fe80",
   "metadata": {},
   "outputs": [
    {
     "name": "stdout",
     "output_type": "stream",
     "text": [
      "The shortest path is: 497\n"
     ]
    }
   ],
   "source": [
    "# Get shortest path using Dijkstra's algorithm\n",
    "shortest_path = dijkstra(heights, start, end)\n",
    "print('The shortest path is: ' + str(shortest_path))"
   ]
  },
  {
   "cell_type": "markdown",
   "id": "16842316-20ad-48dc-b3cb-9a8179b9990f",
   "metadata": {},
   "source": [
    "## Part 2"
   ]
  },
  {
   "cell_type": "markdown",
   "id": "e0c5b605-5fc0-41e7-8a8e-81c2c675e371",
   "metadata": {},
   "source": [
    "### Option 1 (Very slow - don't use it!)\n",
    "Run algorithm from each start point to the end"
   ]
  },
  {
   "cell_type": "code",
   "execution_count": 6,
   "id": "3d93d612-fc2c-43d6-bd3f-cb3f888c3a73",
   "metadata": {
    "tags": []
   },
   "outputs": [],
   "source": [
    "# # Find all positions with height a\n",
    "# a_positions = []\n",
    "# for i in range(len(heights)):\n",
    "#     for j in range(len(heights[0])):\n",
    "#         if heights[i][j] == 0:\n",
    "#             a_positions.append((i,j))\n",
    "\n",
    "# # Find shortest path from each position with height a            \n",
    "# shortest_paths = []\n",
    "# for i, pos in enumerate(a_positions):\n",
    "#     # Compute shortest path for each starting position\n",
    "#     shortest_paths.append(dijkstra(heights, pos, end))\n",
    "    \n",
    "#     # Print progress\n",
    "#     percent_done = round(100*i/len(a_positions), ndigits=1)\n",
    "#     if i % 10 == 0:\n",
    "#         print(str(percent_done) + '% done')\n",
    "\n",
    "# print('The shortest path starting from height a is: ' + str(min(shortest_paths)))"
   ]
  },
  {
   "cell_type": "markdown",
   "id": "b4f8a080-102b-48a8-a58b-aa5c9d806eda",
   "metadata": {},
   "source": [
    "### Option 2 (Good option for saving time and energy)\n",
    "Run backwards from end and return the whole value matrix, giving shortest paths from all start points at once"
   ]
  },
  {
   "cell_type": "code",
   "execution_count": 7,
   "id": "cd6de586-c627-417c-ad73-866ebe8a0991",
   "metadata": {},
   "outputs": [],
   "source": [
    "# Find neighbours of each position\n",
    "\n",
    "# Go backwards!\n",
    "new_start = end\n",
    "new_end = start\n",
    "start = new_start\n",
    "end = new_end\n",
    "\n",
    "neighbours = {} # Neighbours for each position\n",
    "for i in range(len(heights)):\n",
    "    for j in range(len(heights[0])):\n",
    "        neighbours_ij = []\n",
    "        for diff in [(1,0), (-1,0), (0,1), (0,-1)]:\n",
    "            i_n = i + diff[0]\n",
    "            j_n = j + diff[1]\n",
    "            neighbour_exists = (i_n >= 0 and i_n < len(heights) and j_n >= 0 and j_n < len(heights[0]))\n",
    "            if neighbour_exists:\n",
    "                # Reachability condition changed from part 1 to reflect that we go backwards\n",
    "                neighbour_reachable = ((heights[i_n][j_n] - heights[i][j]) >= -1)\n",
    "                if neighbour_reachable:\n",
    "                    neighbours_ij.append((i_n, j_n))\n",
    "        neighbours[i,j] = neighbours_ij"
   ]
  },
  {
   "cell_type": "code",
   "execution_count": 8,
   "id": "3400e3a6-635c-4ac8-9662-fc6123780308",
   "metadata": {},
   "outputs": [
    {
     "name": "stdout",
     "output_type": "stream",
     "text": [
      "The shortest path starting from height a is: 492\n"
     ]
    }
   ],
   "source": [
    "# Get shortest path using Dijkstra's algorithm\n",
    "values = dijkstra(heights, start, end, get_all_values=True)\n",
    "\n",
    "# Find all positions with height a\n",
    "a_positions = []\n",
    "for i in range(len(heights)):\n",
    "    for j in range(len(heights[0])):\n",
    "        if heights[i][j] == 0:\n",
    "            a_positions.append((i,j))\n",
    "            \n",
    "# Find shortest path from each position with height a       \n",
    "shortest_paths = []\n",
    "for pos in a_positions:\n",
    "    shortest_paths.append(values[pos])\n",
    "\n",
    "print('The shortest path starting from height a is: ' + str(min(shortest_paths)))"
   ]
  }
 ],
 "metadata": {
  "jupytext": {
   "formats": "ipynb,py:light"
  },
  "kernelspec": {
   "display_name": "Python 3 (ipykernel)",
   "language": "python",
   "name": "python3"
  },
  "language_info": {
   "codemirror_mode": {
    "name": "ipython",
    "version": 3
   },
   "file_extension": ".py",
   "mimetype": "text/x-python",
   "name": "python",
   "nbconvert_exporter": "python",
   "pygments_lexer": "ipython3",
   "version": "3.9.13"
  }
 },
 "nbformat": 4,
 "nbformat_minor": 5
}
