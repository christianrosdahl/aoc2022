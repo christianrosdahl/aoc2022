{
 "cells": [
  {
   "cell_type": "markdown",
   "id": "f3d51b51-0ba8-4893-b035-f72724fa3fb8",
   "metadata": {},
   "source": [
    "# Advent of Code 2022 - Day 8"
   ]
  },
  {
   "cell_type": "markdown",
   "id": "c3d42ff9-71f6-4568-9b5b-a644a2dac962",
   "metadata": {},
   "source": [
    "## Part 1"
   ]
  },
  {
   "cell_type": "code",
   "execution_count": 1,
   "id": "6f6a55ef-d3c3-47f7-9eac-c772383717cb",
   "metadata": {},
   "outputs": [],
   "source": [
    "# Load data\n",
    "file = open('input.txt','r')\n",
    "lines = file.readlines()\n",
    "for i in range(len(lines)):\n",
    "    lines[i] = lines[i].replace('\\n', '')"
   ]
  },
  {
   "cell_type": "code",
   "execution_count": 2,
   "id": "a998d4ba-c069-44fa-99f3-2cda328ea541",
   "metadata": {},
   "outputs": [],
   "source": [
    "# Create grid\n",
    "grid = []\n",
    "for line in lines:\n",
    "    row = []\n",
    "    for i in line:\n",
    "        row.append(int(i))\n",
    "    grid.append(row)"
   ]
  },
  {
   "cell_type": "code",
   "execution_count": 3,
   "id": "53e9bf43-0c5b-495f-982d-bb37451082ba",
   "metadata": {},
   "outputs": [],
   "source": [
    "def visible(grid, pos_x, pos_y, tree_height):\n",
    "    grid_height = len(grid)\n",
    "    grid_width = len(grid[0])\n",
    "    visible_from_left = True\n",
    "    visible_from_right = True\n",
    "    visible_from_up = True\n",
    "    visible_from_down = True\n",
    "    for i in range(0, pos_x):\n",
    "        if grid[pos_y][i] >= tree_height:\n",
    "            visible_from_left = False\n",
    "    for i in range(pos_x+1, grid_width):\n",
    "        if grid[pos_y][i] >= tree_height:\n",
    "            visible_from_right = False\n",
    "    for i in range(0, pos_y):\n",
    "        if grid[i][pos_x] >= tree_height:\n",
    "            visible_from_up = False\n",
    "    for i in range(pos_y+1, grid_height):\n",
    "        if grid[i][pos_x] >= tree_height:\n",
    "            visible_from_down = False\n",
    "    if visible_from_left or visible_from_right or visible_from_down or visible_from_up:\n",
    "        return True\n",
    "    else:\n",
    "        return False"
   ]
  },
  {
   "cell_type": "code",
   "execution_count": 4,
   "id": "ce6518c4-d310-496c-8814-b91902a5db58",
   "metadata": {},
   "outputs": [
    {
     "name": "stdout",
     "output_type": "stream",
     "text": [
      "Number of visible trees: 1840\n"
     ]
    }
   ],
   "source": [
    "# Count number of visible trees\n",
    "num_visible = 0\n",
    "\n",
    "# Edge trees\n",
    "grid_height = len(grid)\n",
    "grid_width = len(grid[0])\n",
    "num_visible += 2*grid_width + 2*(grid_height-2)\n",
    "\n",
    "# Interior trees\n",
    "for pos_x in range(1, grid_width-1):\n",
    "    for pos_y in range(1, grid_height-1):\n",
    "        num_visible += visible(grid, pos_x, pos_y, grid[pos_y][pos_x])\n",
    "        \n",
    "print('Number of visible trees: ' + str(num_visible))"
   ]
  },
  {
   "cell_type": "markdown",
   "id": "adfd9344-42d3-483c-9294-375636140492",
   "metadata": {},
   "source": [
    "## Part 2"
   ]
  },
  {
   "cell_type": "code",
   "execution_count": 5,
   "id": "e8113941-6839-4bbc-a5b0-4e4e03b49828",
   "metadata": {},
   "outputs": [],
   "source": [
    "def scenic_score(grid, pos_x, pos_y, tree_height):\n",
    "    grid_height = len(grid)\n",
    "    grid_width = len(grid[0])\n",
    "    dist_left = 0\n",
    "    dist_right = 0\n",
    "    dist_up = 0\n",
    "    dist_down = 0\n",
    "    for i in range(1, pos_x + 1):\n",
    "        dist_left = i\n",
    "        if grid[pos_y][pos_x - i] >= tree_height:\n",
    "            break;\n",
    "    for i in range(1, grid_width - pos_x):\n",
    "        dist_right = i\n",
    "        if grid[pos_y][pos_x + i] >= tree_height:\n",
    "            break;\n",
    "    for i in range(1, pos_y + 1):\n",
    "        dist_up = i\n",
    "        if grid[pos_y - i][pos_x] >= tree_height:\n",
    "            break;\n",
    "    for i in range(1, grid_height - pos_y):\n",
    "        dist_down = i\n",
    "        if grid[pos_y + i][pos_x] >= tree_height:\n",
    "            break;\n",
    "    return dist_left * dist_right * dist_up * dist_down"
   ]
  },
  {
   "cell_type": "code",
   "execution_count": 6,
   "id": "d6c33a37-eb1d-490b-a13c-067c4b54a48d",
   "metadata": {},
   "outputs": [
    {
     "name": "stdout",
     "output_type": "stream",
     "text": [
      "The maximal scenic score is 405769\n"
     ]
    }
   ],
   "source": [
    "# Compute maximal scenic score\n",
    "max_score = 0\n",
    "for pos_x in range(0, grid_width):\n",
    "    for pos_y in range(0, grid_height):\n",
    "        score = scenic_score(grid, pos_x, pos_y, grid[pos_y][pos_x])\n",
    "        if score > max_score:\n",
    "            max_score = score\n",
    "print('The maximal scenic score is ' + str(max_score))"
   ]
  }
 ],
 "metadata": {
  "jupytext": {
   "formats": "ipynb,py:light"
  },
  "kernelspec": {
   "display_name": "Python 3 (ipykernel)",
   "language": "python",
   "name": "python3"
  },
  "language_info": {
   "codemirror_mode": {
    "name": "ipython",
    "version": 3
   },
   "file_extension": ".py",
   "mimetype": "text/x-python",
   "name": "python",
   "nbconvert_exporter": "python",
   "pygments_lexer": "ipython3",
   "version": "3.9.13"
  }
 },
 "nbformat": 4,
 "nbformat_minor": 5
}
