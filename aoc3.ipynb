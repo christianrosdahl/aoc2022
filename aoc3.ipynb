{
 "cells": [
  {
   "cell_type": "markdown",
   "id": "7d745d4f-fbbf-4ba5-ad38-ef8429372f80",
   "metadata": {},
   "source": [
    "# Advent of Code 2022 - Day 3"
   ]
  },
  {
   "cell_type": "code",
   "execution_count": 1,
   "id": "a7ca9198-22f2-473d-8bdd-0e866e109c49",
   "metadata": {},
   "outputs": [],
   "source": [
    "# Load data\n",
    "file = open('input3.txt','r')\n",
    "lines = file.readlines()\n",
    "for i in range(len(lines)):\n",
    "    lines[i] = lines[i].replace('\\n', '')"
   ]
  },
  {
   "cell_type": "code",
   "execution_count": 2,
   "id": "429232e3-e876-42e8-9450-7c0aeecfa457",
   "metadata": {},
   "outputs": [],
   "source": [
    "def get_common_item(compartment1, compartment2):\n",
    "    for item in compartment1:\n",
    "        if item in compartment2:\n",
    "            return item"
   ]
  },
  {
   "cell_type": "code",
   "execution_count": 3,
   "id": "b4d20a65-8dbf-4b69-961e-a883a48a0c78",
   "metadata": {},
   "outputs": [],
   "source": [
    "common_items = []\n",
    "for line in lines:\n",
    "    compartment1 = line[:int(round(len(line)/2))]\n",
    "    compartment2 = line[int(round(len(line)/2)):]\n",
    "    common_item = get_common_item(compartment1, compartment2)\n",
    "    common_items.append(common_item)"
   ]
  },
  {
   "cell_type": "code",
   "execution_count": 4,
   "id": "cb627a0d-468e-49b5-8beb-100b685752b8",
   "metadata": {},
   "outputs": [
    {
     "name": "stdout",
     "output_type": "stream",
     "text": [
      "Priorities: \n",
      "{'a': 1, 'b': 2, 'c': 3, 'd': 4, 'e': 5, 'f': 6, 'g': 7, 'h': 8, 'i': 9, 'j': 10, 'k': 11, 'l': 12, 'm': 13, 'n': 14, 'o': 15, 'p': 16, 'q': 17, 'r': 18, 's': 19, 't': 20, 'u': 21, 'v': 22, 'w': 23, 'x': 24, 'y': 25, 'z': 26, 'A': 27, 'B': 28, 'C': 29, 'D': 30, 'E': 31, 'F': 32, 'G': 33, 'H': 34, 'I': 35, 'J': 36, 'K': 37, 'L': 38, 'M': 39, 'N': 40, 'O': 41, 'P': 42, 'Q': 43, 'R': 44, 'S': 45, 'T': 46, 'U': 47, 'V': 48, 'W': 49, 'X': 50, 'Y': 51, 'Z': 52}\n"
     ]
    }
   ],
   "source": [
    "all_items = 'abcdefghijklmnopqrstuvwxyzABCDEFGHIJKLMNOPQRSTUVWXYZ'\n",
    "priority_values = list(range(1,53))\n",
    "priority = {}\n",
    "for i in range(len(all_items)):\n",
    "    priority[all_items[i]] = priority_values[i]\n",
    "print('Priorities: ')\n",
    "print(priority)"
   ]
  },
  {
   "cell_type": "code",
   "execution_count": 5,
   "id": "dc5a598d-054d-43f8-9c52-f7415eaefdad",
   "metadata": {},
   "outputs": [
    {
     "name": "stdout",
     "output_type": "stream",
     "text": [
      "Sum of priorities for common items:\n",
      "7746\n"
     ]
    }
   ],
   "source": [
    "priorities_sum = 0\n",
    "for item in common_items:\n",
    "    priorities_sum += priority[item]\n",
    "print('Sum of priorities for common items:')\n",
    "print(priorities_sum)"
   ]
  },
  {
   "cell_type": "code",
   "execution_count": 6,
   "id": "301c0f42-b78a-4b39-85d1-7e6607266cc9",
   "metadata": {},
   "outputs": [
    {
     "name": "stdout",
     "output_type": "stream",
     "text": [
      "[['RCMRQjLLWGTjnlnZwwnZJRZH', 'qnvfhpSbvSppNddNdSqbbmmdPrwttJVrVPDVrJtHtwPZhrPJ', 'BFpFzSSqSFFSvQsnWgCMjTLzng'], ['DbWVcVRRdlLffvtqjTWNgQ', 'mJJMpsmrMrJSHJpsHrFHvBvgHvqfNvzffgTvfj', 'mMhPjmjmFPJhMSGGcDRlwRdcLGPc'], ['qFcbmWFJqqWpRJcQWpqsQQQwSPCPrHRHCPdNZtSrSHwrNZ', 'jGMjGLhhhgTvghgtGVjnNCrPVwZSZffSNSwHZZdH', 'DvzDlvvhnjlMlglglGGhDLpqqcJWWtsmszpWbBBBmQmb']]\n"
     ]
    }
   ],
   "source": [
    "groups = []\n",
    "for first_in_group in range(0,len(lines),3):\n",
    "    group = []\n",
    "    group.append(lines[first_in_group])\n",
    "    group.append(lines[first_in_group + 1])\n",
    "    group.append(lines[first_in_group + 2])\n",
    "    groups.append(group)\n",
    "print(groups[:3])"
   ]
  },
  {
   "cell_type": "code",
   "execution_count": 7,
   "id": "c821039c-3462-4016-95a6-029f67851c6b",
   "metadata": {},
   "outputs": [],
   "source": [
    "def get_common_item2(elf1, elf2, elf3):\n",
    "    for item in elf1:\n",
    "        if item in elf2 and item in elf3:\n",
    "            return item"
   ]
  },
  {
   "cell_type": "code",
   "execution_count": 8,
   "id": "f19c20d9-655a-4e6b-8a0f-7fe874269ecc",
   "metadata": {},
   "outputs": [
    {
     "name": "stdout",
     "output_type": "stream",
     "text": [
      "['n', 'j', 't', 'J', 'L', 'T', 'Z', 'S', 'w', 'L', 'q', 'w', 's', 'M', 'S', 'L', 'L', 'S', 'b', 'r', 'P', 'H', 'V', 'r', 'P', 'p', 'J', 'M', 'P', 'W', 'f', 'Z', 's', 'C', 'w', 'Z', 'j', 'D', 'z', 'G', 'b', 'M', 'M', 'w', 'l', 'V', 'G', 'Q', 'j', 'r', 'j', 'p', 'N', 'j', 'b', 'Q', 'h', 'Q', 'G', 'c', 'j', 'V', 'q', 'w', 'q', 'F', 'G', 'P', 'c', 'v', 'w', 'v', 'h', 'l', 'f', 't', 'G', 'P', 'S', 'c', 'd', 'b', 'v', 'C', 'v', 'Q', 'G', 'b', 'f', 'L', 'd', 'J', 'g', 'n', 'D', 'S', 'Q', 's', 'c', 'n']\n"
     ]
    }
   ],
   "source": [
    "common_items = []\n",
    "for group in groups:\n",
    "    common_items.append(get_common_item2(group[0], group[1], group[2]))\n",
    "print(common_items)"
   ]
  },
  {
   "cell_type": "code",
   "execution_count": 9,
   "id": "fd81035d-42fd-4372-82ff-5f23cc8341c2",
   "metadata": {},
   "outputs": [
    {
     "name": "stdout",
     "output_type": "stream",
     "text": [
      "Sum of priorities for common items:\n",
      "2604\n"
     ]
    }
   ],
   "source": [
    "priorities_sum = 0\n",
    "for item in common_items:\n",
    "    priorities_sum += priority[item]\n",
    "print('Sum of priorities for common items:')\n",
    "print(priorities_sum)"
   ]
  }
 ],
 "metadata": {
  "jupytext": {
   "formats": "ipynb,auto:light"
  },
  "kernelspec": {
   "display_name": "Python 3 (ipykernel)",
   "language": "python",
   "name": "python3"
  },
  "language_info": {
   "codemirror_mode": {
    "name": "ipython",
    "version": 3
   },
   "file_extension": ".py",
   "mimetype": "text/x-python",
   "name": "python",
   "nbconvert_exporter": "python",
   "pygments_lexer": "ipython3",
   "version": "3.9.13"
  }
 },
 "nbformat": 4,
 "nbformat_minor": 5
}
