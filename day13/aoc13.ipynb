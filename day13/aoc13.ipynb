{
 "cells": [
  {
   "cell_type": "markdown",
   "id": "33fd16ae-9ea4-4186-80b2-4635c1bd9298",
   "metadata": {},
   "source": [
    "# Advent of Code 2022 - Day 13"
   ]
  },
  {
   "cell_type": "markdown",
   "id": "1d46e1f3-bcac-43bf-b9d3-63ef324a6748",
   "metadata": {},
   "source": [
    "## Part 1"
   ]
  },
  {
   "cell_type": "code",
   "execution_count": 1,
   "id": "7dc95f4d-c2e8-4c3f-be03-8063088b26a2",
   "metadata": {},
   "outputs": [],
   "source": [
    "# Load data\n",
    "file = open('input.txt','r')\n",
    "lines = file.readlines()\n",
    "for i in range(len(lines)):\n",
    "    lines[i] = lines[i].replace('\\n', '')"
   ]
  },
  {
   "cell_type": "code",
   "execution_count": 2,
   "id": "91bf2517-1366-40a9-abd1-0a625759e1a6",
   "metadata": {},
   "outputs": [],
   "source": [
    "# Put all packet pairs in a list\n",
    "packet_pairs = []\n",
    "for i in range(0, len(lines), 3):\n",
    "    packet_pairs.append((eval(lines[i]), eval(lines[i+1])))"
   ]
  },
  {
   "cell_type": "code",
   "execution_count": 3,
   "id": "8cc77ea9-9c88-41db-b537-4da7dec389dd",
   "metadata": {},
   "outputs": [],
   "source": [
    "def get_first(left, right):\n",
    "    # Get first element (list or number) out of left or right\n",
    "    # Returns: 'left', 'right' or 'equal'\n",
    "    first = 'equal'\n",
    "    for i in range(min(len(left), len(right))):\n",
    "        new_left = left[i]\n",
    "        new_right = right[i]\n",
    "        if type(new_left) is int and type(new_right) is int:\n",
    "            if new_left < new_right:\n",
    "                return 'left'\n",
    "            elif new_left > new_right:\n",
    "                return 'right'\n",
    "        else:\n",
    "            if type(new_left) is int and type(new_right) is list:\n",
    "                first = get_first([new_left], new_right)\n",
    "            elif type(new_left) is list and type(new_right) is int:\n",
    "                first = get_first(new_left, [new_right])\n",
    "            else: # type(new_left) is list and type(new_right) is list\n",
    "                first = get_first(new_left, new_right)\n",
    "            if not first == 'equal':\n",
    "                return first\n",
    "\n",
    "    if first == 'equal':\n",
    "        if len(left) < len(right):\n",
    "            first = 'left'\n",
    "        elif len(right) < len(left):\n",
    "            first = 'right'\n",
    "        else:\n",
    "            first = 'equal'\n",
    "    return first"
   ]
  },
  {
   "cell_type": "code",
   "execution_count": 4,
   "id": "73a800f0-be6a-4c11-8cd7-83b91641ca88",
   "metadata": {},
   "outputs": [],
   "source": [
    "def has_right_order(left, right):\n",
    "    # Check if the current order (left, right) is correct\n",
    "    first = get_first(left, right)\n",
    "    return first == 'left' or first == 'equal'"
   ]
  },
  {
   "cell_type": "code",
   "execution_count": 5,
   "id": "1b3810fc-9706-4c48-8913-bc630bed437d",
   "metadata": {
    "tags": []
   },
   "outputs": [],
   "source": [
    "# Find pair indices with correct order (counted from 1)\n",
    "indices_with_right_order = []\n",
    "for i, pair in enumerate(packet_pairs):\n",
    "    left = pair[0]\n",
    "    right = pair[1]\n",
    "    if has_right_order(left, right):\n",
    "        indices_with_right_order.append(i+1)"
   ]
  },
  {
   "cell_type": "code",
   "execution_count": 6,
   "id": "3a1d9dd7-24f4-4c3d-9e8d-fcd32d99e19c",
   "metadata": {},
   "outputs": [
    {
     "name": "stdout",
     "output_type": "stream",
     "text": [
      "The sum of the indices of correctly ordered packet pairs: 6086\n"
     ]
    }
   ],
   "source": [
    "print('The sum of the indices of correctly ordered packet pairs: ' + str(sum(indices_with_right_order)))"
   ]
  },
  {
   "cell_type": "markdown",
   "id": "16842316-20ad-48dc-b3cb-9a8179b9990f",
   "metadata": {},
   "source": [
    "## Part 2"
   ]
  },
  {
   "cell_type": "code",
   "execution_count": 7,
   "id": "67053313-99b8-4c99-9c44-ed04442bcfdd",
   "metadata": {},
   "outputs": [],
   "source": [
    "# Import function for sorting from comparison function\n",
    "from functools import cmp_to_key"
   ]
  },
  {
   "cell_type": "code",
   "execution_count": 8,
   "id": "3a0d7519-8a7b-43ba-b6f0-49cc20011980",
   "metadata": {},
   "outputs": [],
   "source": [
    "def compare(left, right):\n",
    "    # Compare function\n",
    "    # Returns: -1 if left < right, 1 if left > right and 0 if left = right\n",
    "    if get_first(left, right) == 'left':\n",
    "        return -1\n",
    "    if get_first(left,right) == 'right':\n",
    "        return 1\n",
    "    else:\n",
    "        return 0"
   ]
  },
  {
   "cell_type": "code",
   "execution_count": 9,
   "id": "cf7db6ff-f0bf-4cd1-b3c3-13bc3d8c9088",
   "metadata": {},
   "outputs": [],
   "source": [
    "# Collect all packets in a list\n",
    "all_packets = []\n",
    "for pair in packet_pairs:\n",
    "    all_packets.append(pair[0])\n",
    "    all_packets.append(pair[1])\n",
    "\n",
    "# Add divider packets\n",
    "divider_packets = [[[2]], [[6]]]\n",
    "for packet in divider_packets:\n",
    "    all_packets.append(packet)\n",
    "\n",
    "# Sort list with all packets using the compare function\n",
    "sorted_packets = sorted(all_packets, key=cmp_to_key(compare))"
   ]
  },
  {
   "cell_type": "code",
   "execution_count": 10,
   "id": "022b4d42-35fe-4bfb-96b9-a51a1d1ec644",
   "metadata": {},
   "outputs": [
    {
     "name": "stdout",
     "output_type": "stream",
     "text": [
      "The decoder key is: 27930\n"
     ]
    }
   ],
   "source": [
    "# Find decoder key\n",
    "ans = 1\n",
    "for packet in divider_packets:\n",
    "    ans *= (sorted_packets.index(packet) + 1)\n",
    "print('The decoder key is: ' + str(ans))"
   ]
  }
 ],
 "metadata": {
  "jupytext": {
   "formats": "ipynb,py:light"
  },
  "kernelspec": {
   "display_name": "Python 3 (ipykernel)",
   "language": "python",
   "name": "python3"
  },
  "language_info": {
   "codemirror_mode": {
    "name": "ipython",
    "version": 3
   },
   "file_extension": ".py",
   "mimetype": "text/x-python",
   "name": "python",
   "nbconvert_exporter": "python",
   "pygments_lexer": "ipython3",
   "version": "3.9.13"
  }
 },
 "nbformat": 4,
 "nbformat_minor": 5
}
