{
 "cells": [
  {
   "cell_type": "markdown",
   "id": "33fd16ae-9ea4-4186-80b2-4635c1bd9298",
   "metadata": {},
   "source": [
    "# Advent of Code 2022 - Day 11"
   ]
  },
  {
   "cell_type": "code",
   "execution_count": 1,
   "id": "7dc95f4d-c2e8-4c3f-be03-8063088b26a2",
   "metadata": {},
   "outputs": [],
   "source": [
    "def initiate():\n",
    "    # Load data\n",
    "    file = open('input11.txt','r')\n",
    "    lines = file.readlines()\n",
    "    for i in range(len(lines)):\n",
    "        lines[i] = lines[i].replace('\\n', '')\n",
    "\n",
    "    # Get starting items for each monkey\n",
    "    monkey_items = []\n",
    "    for line in lines:\n",
    "        if 'Starting items' in line:\n",
    "            line = line[len('  Starting items: '):]\n",
    "            line = line.split(', ')\n",
    "            line = [int(i) for i in line]\n",
    "            monkey_items.append(line)\n",
    "\n",
    "    # Get operation for each monkey\n",
    "    operations = []\n",
    "    for line in lines:\n",
    "        if 'Operation' in line:\n",
    "            operation = line[len('  Operation: new = '):]\n",
    "            operations.append(operation)\n",
    "\n",
    "    # Get tests for each monkey\n",
    "    tests = []\n",
    "    for i, line in enumerate(lines):\n",
    "        if 'Test' in line:\n",
    "            number = line[len('  Test: divisible by '):]\n",
    "            test = {}\n",
    "            test['divider'] = int(number)\n",
    "            test['if_true'] = int(lines[i+1].split()[-1])\n",
    "            test['if_false'] = int(lines[i+2].split()[-1])\n",
    "            tests.append(test)\n",
    "    return lines, monkey_items, operations, tests"
   ]
  },
  {
   "cell_type": "markdown",
   "id": "1d46e1f3-bcac-43bf-b9d3-63ef324a6748",
   "metadata": {},
   "source": [
    "## Part 1"
   ]
  },
  {
   "cell_type": "code",
   "execution_count": 2,
   "id": "bb5ce385-6337-45e6-a84d-b74a6990e2f6",
   "metadata": {},
   "outputs": [
    {
     "name": "stdout",
     "output_type": "stream",
     "text": [
      "Activity: [160, 318, 172, 166, 184, 137, 314, 218]\n",
      "Monkey business: 99852\n"
     ]
    }
   ],
   "source": [
    "lines, monkey_items, operations, tests = initiate()\n",
    "\n",
    "num_rounds = 20\n",
    "num_monkeys = len(monkey_items)\n",
    "activity = [0 for _ in range(num_monkeys)]\n",
    "for r in range(num_rounds):\n",
    "    for monkey in range(num_monkeys):\n",
    "        while len(monkey_items[monkey]) > 0:\n",
    "            activity[monkey] += 1\n",
    "            old = monkey_items[monkey].pop(0) # Old level\n",
    "            level = eval(operations[monkey]) # Old level is input\n",
    "            level = int(level/3)\n",
    "            if level % tests[monkey]['divider'] == 0:\n",
    "                throw_to = tests[monkey]['if_true']\n",
    "            else:\n",
    "                throw_to = tests[monkey]['if_false']\n",
    "            monkey_items[throw_to].append(level)\n",
    "print('Activity: ' + str(activity))\n",
    "activity.sort(reverse=True)\n",
    "monkey_business = activity[0] * activity[1]\n",
    "print('Monkey business: ' + str(monkey_business))"
   ]
  },
  {
   "cell_type": "markdown",
   "id": "16842316-20ad-48dc-b3cb-9a8179b9990f",
   "metadata": {},
   "source": [
    "## Part 2"
   ]
  },
  {
   "cell_type": "code",
   "execution_count": 3,
   "id": "4f461c22-ef0d-409d-9f7d-1a072f8b584e",
   "metadata": {},
   "outputs": [
    {
     "name": "stdout",
     "output_type": "stream",
     "text": [
      "Activity: [25869, 161523, 146733, 27041, 155504, 30343, 160567, 160360]\n",
      "Monkey business: 25935263541\n"
     ]
    }
   ],
   "source": [
    "lines, monkey_items, operations, tests = initiate()\n",
    "\n",
    "num_rounds = 10000\n",
    "num_monkeys = len(monkey_items)\n",
    "activity = [0 for _ in range(num_monkeys)]\n",
    "\n",
    "all_dividers_multiplied = 1\n",
    "for test in tests:\n",
    "    divider = test['divider']\n",
    "    all_dividers_multiplied *= divider\n",
    "    \n",
    "for r in range(num_rounds):\n",
    "    for monkey in range(num_monkeys):\n",
    "        while len(monkey_items[monkey]) > 0:\n",
    "            activity[monkey] += 1\n",
    "            old = monkey_items[monkey].pop(0) # Old level\n",
    "            old = old % all_dividers_multiplied\n",
    "            level = eval(operations[monkey]) # Old level is input\n",
    "            if level % tests[monkey]['divider'] == 0:\n",
    "                throw_to = tests[monkey]['if_true']\n",
    "            else:\n",
    "                throw_to = tests[monkey]['if_false']\n",
    "            monkey_items[throw_to].append(level)\n",
    "print('Activity: ' + str(activity))\n",
    "activity.sort(reverse=True)\n",
    "monkey_business = activity[0] * activity[1]\n",
    "print('Monkey business: ' + str(monkey_business))"
   ]
  }
 ],
 "metadata": {
  "jupytext": {
   "formats": "ipynb,auto:light"
  },
  "kernelspec": {
   "display_name": "Python 3 (ipykernel)",
   "language": "python",
   "name": "python3"
  },
  "language_info": {
   "codemirror_mode": {
    "name": "ipython",
    "version": 3
   },
   "file_extension": ".py",
   "mimetype": "text/x-python",
   "name": "python",
   "nbconvert_exporter": "python",
   "pygments_lexer": "ipython3",
   "version": "3.9.13"
  }
 },
 "nbformat": 4,
 "nbformat_minor": 5
}
