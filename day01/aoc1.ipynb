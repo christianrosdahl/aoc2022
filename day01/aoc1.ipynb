{
 "cells": [
  {
   "cell_type": "markdown",
   "id": "933ac573-9277-4ff8-baa8-7aaf0046fbad",
   "metadata": {},
   "source": [
    "# Advent of Code 2022 - Day 1"
   ]
  },
  {
   "cell_type": "code",
   "execution_count": 1,
   "id": "f66b8b59-c53f-4582-bb76-5ad1062e99b5",
   "metadata": {},
   "outputs": [
    {
     "data": {
      "text/plain": [
       "69310"
      ]
     },
     "execution_count": 1,
     "metadata": {},
     "output_type": "execute_result"
    }
   ],
   "source": [
    "file = open('input1.txt','r')\n",
    "lines = file.readlines()\n",
    "for i in range(len(lines)):\n",
    "    lines[i] = lines[i].replace('\\n', '')\n",
    "\n",
    "elves = [0]\n",
    "for line in lines:\n",
    "    if line == '':\n",
    "        elves += [0]\n",
    "    else:\n",
    "        elves[-1] += int(line)\n",
    "max(elves)"
   ]
  },
  {
   "cell_type": "code",
   "execution_count": 2,
   "id": "35063646-21a1-4d6b-992e-d58f0dcb2bdd",
   "metadata": {},
   "outputs": [
    {
     "name": "stdout",
     "output_type": "stream",
     "text": [
      "Top 3: \n",
      "[69310, 68501, 68293]\n",
      "Top 3 sum: \n",
      "206104\n"
     ]
    }
   ],
   "source": [
    "elves.sort(reverse=True)\n",
    "top3 = elves[0:3]\n",
    "print('Top 3: ')\n",
    "print(top3)\n",
    "print('Top 3 sum: ')\n",
    "print(sum(top3))"
   ]
  }
 ],
 "metadata": {
  "jupytext": {
   "formats": "ipynb,py:light"
  },
  "kernelspec": {
   "display_name": "Python 3 (ipykernel)",
   "language": "python",
   "name": "python3"
  },
  "language_info": {
   "codemirror_mode": {
    "name": "ipython",
    "version": 3
   },
   "file_extension": ".py",
   "mimetype": "text/x-python",
   "name": "python",
   "nbconvert_exporter": "python",
   "pygments_lexer": "ipython3",
   "version": "3.9.13"
  }
 },
 "nbformat": 4,
 "nbformat_minor": 5
}
