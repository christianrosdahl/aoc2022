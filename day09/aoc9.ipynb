{
 "cells": [
  {
   "cell_type": "markdown",
   "id": "fe91e47b-3da5-458a-bc02-da50c3c5bf29",
   "metadata": {},
   "source": [
    "# Advent of Code 2022 - Day 9"
   ]
  },
  {
   "cell_type": "markdown",
   "id": "2536ba4e-c129-459e-b5e2-a559943d15f8",
   "metadata": {},
   "source": [
    "## Part 1"
   ]
  },
  {
   "cell_type": "code",
   "execution_count": 1,
   "id": "d36e49e6-6e71-48ba-883e-1fc67c255197",
   "metadata": {},
   "outputs": [],
   "source": [
    "# Load data\n",
    "file = open('input9.txt','r')\n",
    "lines = file.readlines()\n",
    "for i in range(len(lines)):\n",
    "    lines[i] = lines[i].replace('\\n', '')"
   ]
  },
  {
   "cell_type": "code",
   "execution_count": 2,
   "id": "89053585-0a94-4106-8cb4-35a815108d97",
   "metadata": {},
   "outputs": [],
   "source": [
    "def touching(head, tail):\n",
    "    if abs(head[0] - tail[0]) <= 1 and abs(head[1] - tail[1]) <= 1:\n",
    "        return True\n",
    "    else:\n",
    "        return False"
   ]
  },
  {
   "cell_type": "code",
   "execution_count": 3,
   "id": "5c2d6efb-84cc-49a2-95d6-169323ce3b23",
   "metadata": {},
   "outputs": [],
   "source": [
    "def get_change_from_direction(direction):\n",
    "    if direction == 'U':\n",
    "        return (0,1)\n",
    "    elif direction == 'D':\n",
    "        return (0,-1)\n",
    "    elif direction == 'L':\n",
    "        return (-1,0)\n",
    "    elif direction == 'R':\n",
    "        return (1,0)"
   ]
  },
  {
   "cell_type": "code",
   "execution_count": 4,
   "id": "95b9efe5-1b74-4283-99e2-ba75f25a38a1",
   "metadata": {},
   "outputs": [],
   "source": [
    "def get_change_when_not_touching(head, tail):\n",
    "    if head[0] - tail[0] == 0: # Same row - move tail 1 step towards head\n",
    "        return (0, int((head[1] - tail[1]) / abs(head[1] - tail[1])))\n",
    "    elif head[1] - tail[1] == 0: # Same column - move tail 1 step towards head\n",
    "        return (int((head[0] - tail[0]) / abs(head[0] - tail[0])), 0)\n",
    "    else: # Diagonal difference - move tail one step along diagonal towards head\n",
    "        return (int((head[0] - tail[0]) / abs(head[0] - tail[0])), \n",
    "               int((head[1] - tail[1]) / abs(head[1] - tail[1])))"
   ]
  },
  {
   "cell_type": "code",
   "execution_count": 5,
   "id": "78ec4723-f1e9-45eb-9840-945d7bf9a2ce",
   "metadata": {},
   "outputs": [],
   "source": [
    "def get_new_pos(head_old, head_new, tail_old):\n",
    "    if not touching(head_new, tail_old):\n",
    "        change = get_change_when_not_touching(head_new, tail_old)\n",
    "        tail_new = (tail_old[0] + change[0], tail_old[1] + change[1])\n",
    "    else:\n",
    "        tail_new = tail_old\n",
    "    return tail_new"
   ]
  },
  {
   "cell_type": "code",
   "execution_count": 6,
   "id": "6a6dbf93-a495-4c47-bba5-5f79e76f5438",
   "metadata": {
    "tags": []
   },
   "outputs": [],
   "source": [
    "head_pos = (0,0)\n",
    "tail_pos = (0,0)\n",
    "all_tail_pos = {tail_pos}\n",
    "for line in lines:\n",
    "    direction, num_steps = line.split()\n",
    "    num_steps = int(num_steps)\n",
    "    for step in range(num_steps):\n",
    "        change = get_change_from_direction(direction)\n",
    "        head_pos_new = (head_pos[0] + change[0], head_pos[1] + change[1])\n",
    "        tail_pos_new = get_new_pos(head_pos, head_pos_new, tail_pos)\n",
    "        all_tail_pos.add(tail_pos_new)\n",
    "        head_pos = head_pos_new\n",
    "        tail_pos = tail_pos_new"
   ]
  },
  {
   "cell_type": "code",
   "execution_count": 7,
   "id": "f47bf276-23f1-4f44-8896-53da9eee901f",
   "metadata": {},
   "outputs": [
    {
     "name": "stdout",
     "output_type": "stream",
     "text": [
      "Number of positions that the tail has visited: 6406\n"
     ]
    }
   ],
   "source": [
    "print('Number of positions that the tail has visited: ' + str(len(all_tail_pos)))"
   ]
  },
  {
   "cell_type": "markdown",
   "id": "b305ac87-3fd0-454c-aef4-6148e7995ba7",
   "metadata": {},
   "source": [
    "## Part 2"
   ]
  },
  {
   "cell_type": "code",
   "execution_count": 8,
   "id": "56be4409-0834-4f56-ab98-a44ad3581ca0",
   "metadata": {},
   "outputs": [],
   "source": [
    "def get_new_positions(knot_positions, change):\n",
    "    new_knot_positions = []\n",
    "    head_pos = knot_positions[0]\n",
    "    head_pos_new = (head_pos[0] + change[0], head_pos[1] + change[1])\n",
    "    new_knot_positions.append(head_pos_new)\n",
    "    for i in range(0, len(knot_positions)-1):\n",
    "        head_pos = knot_positions[i]\n",
    "        tail_pos = knot_positions[i+1]\n",
    "        tail_pos_new = get_new_pos(head_pos, head_pos_new, tail_pos)\n",
    "        new_knot_positions.append(tail_pos_new)\n",
    "        head_pos_new = tail_pos_new\n",
    "    return new_knot_positions"
   ]
  },
  {
   "cell_type": "code",
   "execution_count": 9,
   "id": "82cddcc7-f3b2-43d0-92f5-569ff1015170",
   "metadata": {
    "tags": []
   },
   "outputs": [],
   "source": [
    "knot_positions = [(0,0) for _ in range(10)]\n",
    "all_tail_pos = {(0,0)}\n",
    "for line in lines:\n",
    "    direction, num_steps = line.split()\n",
    "    num_steps = int(num_steps)\n",
    "    for step in range(num_steps):\n",
    "        change = get_change_from_direction(direction)\n",
    "        knot_positions = get_new_positions(knot_positions, change)\n",
    "        all_tail_pos.add(knot_positions[-1])"
   ]
  },
  {
   "cell_type": "code",
   "execution_count": 10,
   "id": "3bc0fc1c-fe66-45cc-b6e7-5e8c75021cdf",
   "metadata": {},
   "outputs": [
    {
     "name": "stdout",
     "output_type": "stream",
     "text": [
      "Number of positions that the tail has visited: 2643\n"
     ]
    }
   ],
   "source": [
    "print('Number of positions that the tail has visited: ' + str(len(all_tail_pos)))"
   ]
  }
 ],
 "metadata": {
  "jupytext": {
   "formats": "ipynb,py:light"
  },
  "kernelspec": {
   "display_name": "Python 3 (ipykernel)",
   "language": "python",
   "name": "python3"
  },
  "language_info": {
   "codemirror_mode": {
    "name": "ipython",
    "version": 3
   },
   "file_extension": ".py",
   "mimetype": "text/x-python",
   "name": "python",
   "nbconvert_exporter": "python",
   "pygments_lexer": "ipython3",
   "version": "3.9.13"
  }
 },
 "nbformat": 4,
 "nbformat_minor": 5
}
