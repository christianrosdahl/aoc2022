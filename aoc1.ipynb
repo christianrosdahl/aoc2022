{
 "cells": [
  {
   "cell_type": "markdown",
   "id": "e0893fe4-8b4c-4ec3-a03a-33533efc5de7",
   "metadata": {},
   "source": [
    "# Advent of Code 2022 - Day 1"
   ]
  },
  {
   "cell_type": "code",
   "execution_count": 20,
   "id": "bc62e40d-5f19-4e8c-b046-a82e9a7d4aa5",
   "metadata": {
    "tags": []
   },
   "outputs": [],
   "source": [
    "file = open('input2.txt','r')\n",
    "lines = file.readlines()\n",
    "for i in range(len(lines)):\n",
    "    lines[i] = lines[i].replace('\\n', '')"
   ]
  },
  {
   "cell_type": "code",
   "execution_count": 23,
   "id": "8bd5cc8c-9588-488a-877a-e417031b7cfd",
   "metadata": {},
   "outputs": [],
   "source": [
    "def points(opponent_action, my_action):\n",
    "    points = 0\n",
    "    # Points for chosen action\n",
    "    if my_action == 'X':\n",
    "        points += 1\n",
    "    elif my_action == 'Y':\n",
    "        points += 2\n",
    "    elif my_action == 'Z':\n",
    "        points += 3\n",
    "    \n",
    "    # Points for outcome\n",
    "    if opponent_action == 'A':\n",
    "        if my_action == 'X':\n",
    "            points += 3\n",
    "        elif my_action == 'Y':\n",
    "            points += 6\n",
    "        elif my_action == 'Z':\n",
    "            points += 0\n",
    "    elif opponent_action == 'B':\n",
    "        if my_action == 'X':\n",
    "            points += 0\n",
    "        elif my_action == 'Y':\n",
    "            points += 3\n",
    "        elif my_action == 'Z':\n",
    "            points += 6\n",
    "    elif opponent_action == 'C':\n",
    "        if my_action == 'X':\n",
    "            points += 6\n",
    "        elif my_action == 'Y':\n",
    "            points += 0\n",
    "        elif my_action == 'Z':\n",
    "            points += 3\n",
    "    return points"
   ]
  },
  {
   "cell_type": "code",
   "execution_count": 24,
   "id": "2d6ade9d-3f91-478c-a6bf-263c67ccea3b",
   "metadata": {},
   "outputs": [
    {
     "name": "stdout",
     "output_type": "stream",
     "text": [
      "Total points: 11603\n"
     ]
    }
   ],
   "source": [
    "total_points = 0\n",
    "for line in lines:\n",
    "    opponent_action, my_action = line.split()\n",
    "    total_points += points(opponent_action, my_action)\n",
    "print('Total points: ' + str(total_points))"
   ]
  },
  {
   "cell_type": "code",
   "execution_count": 25,
   "id": "fff84f38-ff76-4a6e-9772-6243b75d98e7",
   "metadata": {},
   "outputs": [],
   "source": [
    "def points2(opponent_action, my_action):\n",
    "    points = 0\n",
    "    # Points for outcome\n",
    "    if my_action == 'X':\n",
    "        points += 0\n",
    "    elif my_action == 'Y':\n",
    "        points += 3\n",
    "    elif my_action == 'Z':\n",
    "        points += 6\n",
    "    \n",
    "    # Points for chosen action\n",
    "    if opponent_action == 'A':\n",
    "        if my_action == 'X':\n",
    "            points += 3\n",
    "        elif my_action == 'Y':\n",
    "            points += 1\n",
    "        elif my_action == 'Z':\n",
    "            points += 2\n",
    "    elif opponent_action == 'B':\n",
    "        if my_action == 'X':\n",
    "            points += 1\n",
    "        elif my_action == 'Y':\n",
    "            points += 2\n",
    "        elif my_action == 'Z':\n",
    "            points += 3\n",
    "    elif opponent_action == 'C':\n",
    "        if my_action == 'X':\n",
    "            points += 2\n",
    "        elif my_action == 'Y':\n",
    "            points += 3\n",
    "        elif my_action == 'Z':\n",
    "            points += 1\n",
    "    return points"
   ]
  },
  {
   "cell_type": "code",
   "execution_count": 26,
   "id": "1ec82a86-d1ef-461b-9a37-af46076854a7",
   "metadata": {},
   "outputs": [
    {
     "name": "stdout",
     "output_type": "stream",
     "text": [
      "Total points: 12725\n"
     ]
    }
   ],
   "source": [
    "total_points = 0\n",
    "for line in lines:\n",
    "    opponent_action, my_action = line.split()\n",
    "    total_points += points2(opponent_action, my_action)\n",
    "print('Total points: ' + str(total_points))"
   ]
  },
  {
   "cell_type": "code",
   "execution_count": null,
   "id": "0bdd3608-0f53-489d-9ff9-e45cf4b39dcc",
   "metadata": {},
   "outputs": [],
   "source": []
  }
 ],
 "metadata": {
  "jupytext": {
   "formats": "ipynb,auto:light"
  },
  "kernelspec": {
   "display_name": "Python 3 (ipykernel)",
   "language": "python",
   "name": "python3"
  },
  "language_info": {
   "codemirror_mode": {
    "name": "ipython",
    "version": 3
   },
   "file_extension": ".py",
   "mimetype": "text/x-python",
   "name": "python",
   "nbconvert_exporter": "python",
   "pygments_lexer": "ipython3",
   "version": "3.9.13"
  }
 },
 "nbformat": 4,
 "nbformat_minor": 5
}
