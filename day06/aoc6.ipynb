{
 "cells": [
  {
   "cell_type": "markdown",
   "id": "4de418e4-bebe-4bc9-98d3-6df515eb4c57",
   "metadata": {},
   "source": [
    "# Advent of Code 2022 - Day 6"
   ]
  },
  {
   "cell_type": "markdown",
   "id": "9b055035-fc69-4570-b94d-59aa266280f3",
   "metadata": {},
   "source": [
    "## Part 1"
   ]
  },
  {
   "cell_type": "code",
   "execution_count": 1,
   "id": "c81a4398-202a-4c92-8df5-e2a2e5d2b67d",
   "metadata": {},
   "outputs": [],
   "source": [
    "# Load data\n",
    "file = open('input6.txt','r')\n",
    "lines = file.readlines()\n",
    "for i in range(len(lines)):\n",
    "    lines[i] = lines[i].replace('\\n', '')"
   ]
  },
  {
   "cell_type": "code",
   "execution_count": 2,
   "id": "c551d07c-3b7c-4b7a-9606-51b2bea4d806",
   "metadata": {},
   "outputs": [],
   "source": [
    "def all_unique_chars(string):\n",
    "    char_set = set()\n",
    "    for char in string:\n",
    "        char_set.add(char)\n",
    "    if len(char_set) == len(string):\n",
    "        return True\n",
    "    else:\n",
    "        return False"
   ]
  },
  {
   "cell_type": "code",
   "execution_count": 3,
   "id": "0addbff1-3e8e-43d5-8896-9c83b7481a23",
   "metadata": {},
   "outputs": [],
   "source": [
    "def len_to_marker(marker_len, string):\n",
    "    for i in range(marker_len,len(string)):\n",
    "        if all_unique_chars(string[i-marker_len:i]):\n",
    "            return i"
   ]
  },
  {
   "cell_type": "code",
   "execution_count": 4,
   "id": "393fb4b6-eb17-4d21-a26b-6f49249816b9",
   "metadata": {},
   "outputs": [
    {
     "name": "stdout",
     "output_type": "stream",
     "text": [
      "The length of the string before the start-of-package marker is 1658\n"
     ]
    }
   ],
   "source": [
    "string = lines[0]\n",
    "marker_len = 4\n",
    "ans = len_to_marker(marker_len, string)\n",
    "print('The length of the string before the start-of-package marker is ' + str(ans))"
   ]
  },
  {
   "cell_type": "markdown",
   "id": "f41aca9e-279f-49fb-b2e2-ac92ed43c3b1",
   "metadata": {},
   "source": [
    "## Part 2"
   ]
  },
  {
   "cell_type": "code",
   "execution_count": 5,
   "id": "92b86492-5335-44b3-a59a-767d1a518b34",
   "metadata": {},
   "outputs": [
    {
     "name": "stdout",
     "output_type": "stream",
     "text": [
      "The length of the string before the start-of-message marker is 2260\n"
     ]
    }
   ],
   "source": [
    "string = lines[0]\n",
    "marker_len = 14\n",
    "ans = len_to_marker(marker_len, string)\n",
    "print('The length of the string before the start-of-message marker is ' + str(ans))"
   ]
  }
 ],
 "metadata": {
  "jupytext": {
   "formats": "ipynb,py:light"
  },
  "kernelspec": {
   "display_name": "Python 3 (ipykernel)",
   "language": "python",
   "name": "python3"
  },
  "language_info": {
   "codemirror_mode": {
    "name": "ipython",
    "version": 3
   },
   "file_extension": ".py",
   "mimetype": "text/x-python",
   "name": "python",
   "nbconvert_exporter": "python",
   "pygments_lexer": "ipython3",
   "version": "3.9.13"
  }
 },
 "nbformat": 4,
 "nbformat_minor": 5
}
