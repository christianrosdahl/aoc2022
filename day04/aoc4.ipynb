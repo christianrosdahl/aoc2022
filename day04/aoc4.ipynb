{
 "cells": [
  {
   "cell_type": "markdown",
   "id": "515f84a3-c88b-4dff-9cd7-052dfb73ea99",
   "metadata": {},
   "source": [
    "# Advent of Code 2022 - Day 4"
   ]
  },
  {
   "cell_type": "code",
   "execution_count": 1,
   "id": "99f735ac-3bc0-4947-b8d8-f18b2ec18355",
   "metadata": {},
   "outputs": [],
   "source": [
    "# Load data\n",
    "file = open('input.txt','r')\n",
    "lines = file.readlines()\n",
    "for i in range(len(lines)):\n",
    "    lines[i] = lines[i].replace('\\n', '')"
   ]
  },
  {
   "cell_type": "code",
   "execution_count": 2,
   "id": "dc51ab79-9d2e-4890-9641-11f827564887",
   "metadata": {},
   "outputs": [],
   "source": [
    "def full_overlap(range1, range2):\n",
    "    start1, end1 = range1.split('-')\n",
    "    start2, end2 = range2.split('-')\n",
    "    start1, end1 = int(start1), int(end1)\n",
    "    start2, end2 = int(start2), int(end2)\n",
    "    if start1 >= start2 and end1 <= end2:\n",
    "        return True\n",
    "    elif start2 >= start1 and end2 <= end1:\n",
    "        return True\n",
    "    else:\n",
    "        return False"
   ]
  },
  {
   "cell_type": "code",
   "execution_count": 3,
   "id": "a30f90a9-3474-4f66-83fa-f978dc731ec1",
   "metadata": {},
   "outputs": [
    {
     "name": "stdout",
     "output_type": "stream",
     "text": [
      "Number of full overlaps: 540\n"
     ]
    }
   ],
   "source": [
    "num_full_overlaps = 0\n",
    "for line in lines:\n",
    "    range1, range2 = line.split(',')\n",
    "    if full_overlap(range1, range2):\n",
    "        num_full_overlaps += 1\n",
    "print('Number of full overlaps: ' + str(num_full_overlaps))"
   ]
  },
  {
   "cell_type": "code",
   "execution_count": 4,
   "id": "6eb9146b-a037-4943-a29a-dedb7a6292a4",
   "metadata": {},
   "outputs": [],
   "source": [
    "def partial_overlap(range1, range2):\n",
    "    start1, end1 = range1.split('-')\n",
    "    start2, end2 = range2.split('-')\n",
    "    start1, end1 = int(start1), int(end1)\n",
    "    start2, end2 = int(start2), int(end2)\n",
    "    if end1 < start2 or end2 < start1:\n",
    "        return False\n",
    "    else:\n",
    "        return True"
   ]
  },
  {
   "cell_type": "code",
   "execution_count": 5,
   "id": "97809fdc-c854-44f7-9a2e-e973f4c582dd",
   "metadata": {},
   "outputs": [
    {
     "name": "stdout",
     "output_type": "stream",
     "text": [
      "Number of partial overlaps: 872\n"
     ]
    }
   ],
   "source": [
    "num_partial_overlaps = 0\n",
    "for line in lines:\n",
    "    range1, range2 = line.split(',')\n",
    "    if partial_overlap(range1, range2):\n",
    "        num_partial_overlaps += 1\n",
    "print('Number of partial overlaps: ' + str(num_partial_overlaps))"
   ]
  }
 ],
 "metadata": {
  "jupytext": {
   "formats": "ipynb,py:light"
  },
  "kernelspec": {
   "display_name": "Python 3 (ipykernel)",
   "language": "python",
   "name": "python3"
  },
  "language_info": {
   "codemirror_mode": {
    "name": "ipython",
    "version": 3
   },
   "file_extension": ".py",
   "mimetype": "text/x-python",
   "name": "python",
   "nbconvert_exporter": "python",
   "pygments_lexer": "ipython3",
   "version": "3.9.13"
  }
 },
 "nbformat": 4,
 "nbformat_minor": 5
}
